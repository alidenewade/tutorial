{
 "cells": [
  {
   "cell_type": "markdown",
   "metadata": {},
   "source": [
    "<table style=\"float:left; border:none\">\n",
    "   <tr style=\"border:none\">\n",
    "       <td style=\"border:none\">\n",
    "           <a href=\"https://bokeh.org/\" target=\"_blank\">\n",
    "           <img\n",
    "               src=\"assets/bokeh-transparent.png\"\n",
    "               style=\"width:50px\"\n",
    "           >\n",
    "           </a>\n",
    "       </td>\n",
    "       <td style=\"border:none\">\n",
    "           <h1>Bokeh Tutorial</h1>\n",
    "       </td>\n",
    "   </tr>\n",
    "</table>\n",
    "\n",
    "<div style=\"float:right;\"><a href=\"TOC.ipynb\" target=\"_blank\">Table of contents</a><br><h2>06 Data sources</h2></div>"
   ]
  },
  {
   "cell_type": "code",
   "execution_count": 1,
   "metadata": {},
   "outputs": [],
   "source": [
    "# load tutorial data\n",
    "from tutorial_data import data"
   ]
  },
  {
   "cell_type": "code",
   "execution_count": 2,
   "metadata": {},
   "outputs": [
    {
     "data": {
      "text/html": [
       "    <style>\n",
       "        .bk-notebook-logo {\n",
       "            display: block;\n",
       "            width: 20px;\n",
       "            height: 20px;\n",
       "            background-image: url(data:image/png;base64,iVBORw0KGgoAAAANSUhEUgAAABQAAAAUCAYAAACNiR0NAAAABHNCSVQICAgIfAhkiAAAAAlwSFlzAAALEgAACxIB0t1+/AAAABx0RVh0U29mdHdhcmUAQWRvYmUgRmlyZXdvcmtzIENTNui8sowAAAOkSURBVDiNjZRtaJVlGMd/1/08zzln5zjP1LWcU9N0NkN8m2CYjpgQYQXqSs0I84OLIC0hkEKoPtiH3gmKoiJDU7QpLgoLjLIQCpEsNJ1vqUOdO7ppbuec5+V+rj4ctwzd8IIbbi6u+8f1539dt3A78eXC7QizUF7gyV1fD1Yqg4JWz84yffhm0qkFqBogB9rM8tZdtwVsPUhWhGcFJngGeWrPzHm5oaMmkfEg1usvLFyc8jLRqDOMru7AyC8saQr7GG7f5fvDeH7Ej8CM66nIF+8yngt6HWaKh7k49Soy9nXurCi1o3qUbS3zWfrYeQDTB/Qj6kX6Ybhw4B+bOYoLKCC9H3Nu/leUTZ1JdRWkkn2ldcCamzrcf47KKXdAJllSlxAOkRgyHsGC/zRday5Qld9DyoM4/q/rUoy/CXh3jzOu3bHUVZeU+DEn8FInkPBFlu3+nW3Nw0mk6vCDiWg8CeJaxEwuHS3+z5RgY+YBR6V1Z1nxSOfoaPa4LASWxxdNp+VWTk7+4vzaou8v8PN+xo+KY2xsw6une2frhw05CTYOmQvsEhjhWjn0bmXPjpE1+kplmmkP3suftwTubK9Vq22qKmrBhpY4jvd5afdRA3wGjFAgcnTK2s4hY0/GPNIb0nErGMCRxWOOX64Z8RAC4oCXdklmEvcL8o0BfkNK4lUg9HTl+oPlQxdNo3Mg4Nv175e/1LDGzZen30MEjRUtmXSfiTVu1kK8W4txyV6BMKlbgk3lMwYCiusNy9fVfvvwMxv8Ynl6vxoByANLTWplvuj/nF9m2+PDtt1eiHPBr1oIfhCChQMBw6Aw0UulqTKZdfVvfG7VcfIqLG9bcldL/+pdWTLxLUy8Qq38heUIjh4XlzZxzQm19lLFlr8vdQ97rjZVOLf8nclzckbcD4wxXMidpX30sFd37Fv/GtwwhzhxGVAprjbg0gCAEeIgwCZyTV2Z1REEW8O4py0wsjeloKoMr6iCY6dP92H6Vw/oTyICIthibxjm/DfN9lVz8IqtqKYLUXfoKVMVQVVJOElGjrnnUt9T9wbgp8AyYKaGlqingHZU/uG2NTZSVqwHQTWkx9hxjkpWDaCg6Ckj5qebgBVbT3V3NNXMSiWSDdGV3hrtzla7J+duwPOToIg42ChPQOQjspnSlp1V+Gjdged7+8UN5CRAV7a5EdFNwCjEaBR27b3W890TE7g24NAP/mMDXRWrGoFPQI9ls/MWO2dWFAar/xcOIImbbpA3zgAAAABJRU5ErkJggg==);\n",
       "        }\n",
       "    </style>\n",
       "    <div>\n",
       "        <a href=\"https://bokeh.org\" target=\"_blank\" class=\"bk-notebook-logo\"></a>\n",
       "        <span id=\"ac5da74d-43c4-4848-91ec-abdac626e7d5\">Loading BokehJS ...</span>\n",
       "    </div>\n"
      ]
     },
     "metadata": {},
     "output_type": "display_data"
    },
    {
     "data": {
      "application/javascript": "'use strict';\n(function(root) {\n  function now() {\n    return new Date();\n  }\n\n  const force = true;\n\n  if (typeof root._bokeh_onload_callbacks === \"undefined\" || force === true) {\n    root._bokeh_onload_callbacks = [];\n    root._bokeh_is_loading = undefined;\n  }\n\nconst JS_MIME_TYPE = 'application/javascript';\n  const HTML_MIME_TYPE = 'text/html';\n  const EXEC_MIME_TYPE = 'application/vnd.bokehjs_exec.v0+json';\n  const CLASS_NAME = 'output_bokeh rendered_html';\n\n  /**\n   * Render data to the DOM node\n   */\n  function render(props, node) {\n    const script = document.createElement(\"script\");\n    node.appendChild(script);\n  }\n\n  /**\n   * Handle when an output is cleared or removed\n   */\n  function handleClearOutput(event, handle) {\n    function drop(id) {\n      const view = Bokeh.index.get_by_id(id)\n      if (view != null) {\n        view.model.document.clear()\n        Bokeh.index.delete(view)\n      }\n    }\n\n    const cell = handle.cell;\n\n    const id = cell.output_area._bokeh_element_id;\n    const server_id = cell.output_area._bokeh_server_id;\n\n    // Clean up Bokeh references\n    if (id != null) {\n      drop(id)\n    }\n\n    if (server_id !== undefined) {\n      // Clean up Bokeh references\n      const cmd_clean = \"from bokeh.io.state import curstate; print(curstate().uuid_to_server['\" + server_id + \"'].get_sessions()[0].document.roots[0]._id)\";\n      cell.notebook.kernel.execute(cmd_clean, {\n        iopub: {\n          output: function(msg) {\n            const id = msg.content.text.trim()\n            drop(id)\n          }\n        }\n      });\n      // Destroy server and session\n      const cmd_destroy = \"import bokeh.io.notebook as ion; ion.destroy_server('\" + server_id + \"')\";\n      cell.notebook.kernel.execute(cmd_destroy);\n    }\n  }\n\n  /**\n   * Handle when a new output is added\n   */\n  function handleAddOutput(event, handle) {\n    const output_area = handle.output_area;\n    const output = handle.output;\n\n    // limit handleAddOutput to display_data with EXEC_MIME_TYPE content only\n    if ((output.output_type != \"display_data\") || (!Object.prototype.hasOwnProperty.call(output.data, EXEC_MIME_TYPE))) {\n      return\n    }\n\n    const toinsert = output_area.element.find(\".\" + CLASS_NAME.split(' ')[0]);\n\n    if (output.metadata[EXEC_MIME_TYPE][\"id\"] !== undefined) {\n      toinsert[toinsert.length - 1].firstChild.textContent = output.data[JS_MIME_TYPE];\n      // store reference to embed id on output_area\n      output_area._bokeh_element_id = output.metadata[EXEC_MIME_TYPE][\"id\"];\n    }\n    if (output.metadata[EXEC_MIME_TYPE][\"server_id\"] !== undefined) {\n      const bk_div = document.createElement(\"div\");\n      bk_div.innerHTML = output.data[HTML_MIME_TYPE];\n      const script_attrs = bk_div.children[0].attributes;\n      for (let i = 0; i < script_attrs.length; i++) {\n        toinsert[toinsert.length - 1].firstChild.setAttribute(script_attrs[i].name, script_attrs[i].value);\n        toinsert[toinsert.length - 1].firstChild.textContent = bk_div.children[0].textContent\n      }\n      // store reference to server id on output_area\n      output_area._bokeh_server_id = output.metadata[EXEC_MIME_TYPE][\"server_id\"];\n    }\n  }\n\n  function register_renderer(events, OutputArea) {\n\n    function append_mime(data, metadata, element) {\n      // create a DOM node to render to\n      const toinsert = this.create_output_subarea(\n        metadata,\n        CLASS_NAME,\n        EXEC_MIME_TYPE\n      );\n      this.keyboard_manager.register_events(toinsert);\n      // Render to node\n      const props = {data: data, metadata: metadata[EXEC_MIME_TYPE]};\n      render(props, toinsert[toinsert.length - 1]);\n      element.append(toinsert);\n      return toinsert\n    }\n\n    /* Handle when an output is cleared or removed */\n    events.on('clear_output.CodeCell', handleClearOutput);\n    events.on('delete.Cell', handleClearOutput);\n\n    /* Handle when a new output is added */\n    events.on('output_added.OutputArea', handleAddOutput);\n\n    /**\n     * Register the mime type and append_mime function with output_area\n     */\n    OutputArea.prototype.register_mime_type(EXEC_MIME_TYPE, append_mime, {\n      /* Is output safe? */\n      safe: true,\n      /* Index of renderer in `output_area.display_order` */\n      index: 0\n    });\n  }\n\n  // register the mime type if in Jupyter Notebook environment and previously unregistered\n  if (root.Jupyter !== undefined) {\n    const events = require('base/js/events');\n    const OutputArea = require('notebook/js/outputarea').OutputArea;\n\n    if (OutputArea.prototype.mime_types().indexOf(EXEC_MIME_TYPE) == -1) {\n      register_renderer(events, OutputArea);\n    }\n  }\n  if (typeof (root._bokeh_timeout) === \"undefined\" || force === true) {\n    root._bokeh_timeout = Date.now() + 5000;\n    root._bokeh_failed_load = false;\n  }\n\n  const NB_LOAD_WARNING = {'data': {'text/html':\n     \"<div style='background-color: #fdd'>\\n\"+\n     \"<p>\\n\"+\n     \"BokehJS does not appear to have successfully loaded. If loading BokehJS from CDN, this \\n\"+\n     \"may be due to a slow or bad network connection. Possible fixes:\\n\"+\n     \"</p>\\n\"+\n     \"<ul>\\n\"+\n     \"<li>re-rerun `output_notebook()` to attempt to load from CDN again, or</li>\\n\"+\n     \"<li>use INLINE resources instead, as so:</li>\\n\"+\n     \"</ul>\\n\"+\n     \"<code>\\n\"+\n     \"from bokeh.resources import INLINE\\n\"+\n     \"output_notebook(resources=INLINE)\\n\"+\n     \"</code>\\n\"+\n     \"</div>\"}};\n\n  function display_loaded(error = null) {\n    const el = document.getElementById(\"ac5da74d-43c4-4848-91ec-abdac626e7d5\");\n    if (el != null) {\n      const html = (() => {\n        if (typeof root.Bokeh === \"undefined\") {\n          if (error == null) {\n            return \"BokehJS is loading ...\";\n          } else {\n            return \"BokehJS failed to load.\";\n          }\n        } else {\n          const prefix = `BokehJS ${root.Bokeh.version}`;\n          if (error == null) {\n            return `${prefix} successfully loaded.`;\n          } else {\n            return `${prefix} <b>encountered errors</b> while loading and may not function as expected.`;\n          }\n        }\n      })();\n      el.innerHTML = html;\n\n      if (error != null) {\n        const wrapper = document.createElement(\"div\");\n        wrapper.style.overflow = \"auto\";\n        wrapper.style.height = \"5em\";\n        wrapper.style.resize = \"vertical\";\n        const content = document.createElement(\"div\");\n        content.style.fontFamily = \"monospace\";\n        content.style.whiteSpace = \"pre-wrap\";\n        content.style.backgroundColor = \"rgb(255, 221, 221)\";\n        content.textContent = error.stack ?? error.toString();\n        wrapper.append(content);\n        el.append(wrapper);\n      }\n    } else if (Date.now() < root._bokeh_timeout) {\n      setTimeout(() => display_loaded(error), 100);\n    }\n  }\n\n  function run_callbacks() {\n    try {\n      root._bokeh_onload_callbacks.forEach(function(callback) {\n        if (callback != null)\n          callback();\n      });\n    } finally {\n      delete root._bokeh_onload_callbacks\n    }\n    console.debug(\"Bokeh: all callbacks have finished\");\n  }\n\n  function load_libs(css_urls, js_urls, callback) {\n    if (css_urls == null) css_urls = [];\n    if (js_urls == null) js_urls = [];\n\n    root._bokeh_onload_callbacks.push(callback);\n    if (root._bokeh_is_loading > 0) {\n      console.debug(\"Bokeh: BokehJS is being loaded, scheduling callback at\", now());\n      return null;\n    }\n    if (js_urls == null || js_urls.length === 0) {\n      run_callbacks();\n      return null;\n    }\n    console.debug(\"Bokeh: BokehJS not loaded, scheduling load and callback at\", now());\n    root._bokeh_is_loading = css_urls.length + js_urls.length;\n\n    function on_load() {\n      root._bokeh_is_loading--;\n      if (root._bokeh_is_loading === 0) {\n        console.debug(\"Bokeh: all BokehJS libraries/stylesheets loaded\");\n        run_callbacks()\n      }\n    }\n\n    function on_error(url) {\n      console.error(\"failed to load \" + url);\n    }\n\n    for (let i = 0; i < css_urls.length; i++) {\n      const url = css_urls[i];\n      const element = document.createElement(\"link\");\n      element.onload = on_load;\n      element.onerror = on_error.bind(null, url);\n      element.rel = \"stylesheet\";\n      element.type = \"text/css\";\n      element.href = url;\n      console.debug(\"Bokeh: injecting link tag for BokehJS stylesheet: \", url);\n      document.body.appendChild(element);\n    }\n\n    for (let i = 0; i < js_urls.length; i++) {\n      const url = js_urls[i];\n      const element = document.createElement('script');\n      element.onload = on_load;\n      element.onerror = on_error.bind(null, url);\n      element.async = false;\n      element.src = url;\n      console.debug(\"Bokeh: injecting script tag for BokehJS library: \", url);\n      document.head.appendChild(element);\n    }\n  };\n\n  function inject_raw_css(css) {\n    const element = document.createElement(\"style\");\n    element.appendChild(document.createTextNode(css));\n    document.body.appendChild(element);\n  }\n\n  const js_urls = [\"https://cdn.bokeh.org/bokeh/release/bokeh-3.4.0.min.js\", \"https://cdn.bokeh.org/bokeh/release/bokeh-gl-3.4.0.min.js\", \"https://cdn.bokeh.org/bokeh/release/bokeh-widgets-3.4.0.min.js\", \"https://cdn.bokeh.org/bokeh/release/bokeh-tables-3.4.0.min.js\", \"https://cdn.bokeh.org/bokeh/release/bokeh-mathjax-3.4.0.min.js\"];\n  const css_urls = [];\n\n  const inline_js = [    function(Bokeh) {\n      Bokeh.set_log_level(\"info\");\n    },\nfunction(Bokeh) {\n    }\n  ];\n\n  function run_inline_js() {\n    if (root.Bokeh !== undefined || force === true) {\n      try {\n            for (let i = 0; i < inline_js.length; i++) {\n      inline_js[i].call(root, root.Bokeh);\n    }\n\n      } catch (error) {display_loaded(error);throw error;\n      }if (force === true) {\n        display_loaded();\n      }} else if (Date.now() < root._bokeh_timeout) {\n      setTimeout(run_inline_js, 100);\n    } else if (!root._bokeh_failed_load) {\n      console.log(\"Bokeh: BokehJS failed to load within specified timeout.\");\n      root._bokeh_failed_load = true;\n    } else if (force !== true) {\n      const cell = $(document.getElementById(\"ac5da74d-43c4-4848-91ec-abdac626e7d5\")).parents('.cell').data().cell;\n      cell.output_area.append_execute_result(NB_LOAD_WARNING)\n    }\n  }\n\n  if (root._bokeh_is_loading === 0) {\n    console.debug(\"Bokeh: BokehJS loaded, going straight to plotting\");\n    run_inline_js();\n  } else {\n    load_libs(css_urls, js_urls, function() {\n      console.debug(\"Bokeh: BokehJS plotting callback run at\", now());\n      run_inline_js();\n    });\n  }\n}(window));",
      "application/vnd.bokehjs_load.v0+json": ""
     },
     "metadata": {},
     "output_type": "display_data"
    }
   ],
   "source": [
    "# activate notebook output\n",
    "from bokeh.io import output_notebook\n",
    "\n",
    "output_notebook()"
   ]
  },
  {
   "cell_type": "markdown",
   "metadata": {},
   "source": [
    "This chapter is focused on how Bokeh handles data. The concepts introduced here are\n",
    "fundamental to Bokeh. You will use them throughout the rest of the tutorial.\n",
    "\n",
    "In the previous examples, you have used standard Python lists or Pandas DataFrames as\n",
    "inputs for your data.\n",
    "\n",
    "Behind the scenes, Bokeh converts all these inputs to a Bokeh **ColumnDataSource**.\n",
    "This is **Bokeh's primary internal data structure**. It is used in almost all plots\n",
    "(with the exception of [map plots](#Map-plots)).\n",
    "\n",
    "In most cases, Bokeh can just handle the ColumnDataSource automatically. However,\n",
    "there are many cases where it is useful to create and use a ColumnDataSource\n",
    "directly. Several of Bokeh's more advanced functionalities rely on using\n",
    "a ColumnDataSource. This includes hover tooltips, automatically placed labels,\n",
    "computed transforms, or custom interactions, for example."
   ]
  },
  {
   "cell_type": "markdown",
   "metadata": {},
   "source": [
    "### Creating a ColumnDataSource from a dictionary\n",
    "\n",
    "The first step to creating a `ColumnDataSource` is to import it from `bokeh.models`:"
   ]
  },
  {
   "cell_type": "code",
   "execution_count": 4,
   "metadata": {},
   "outputs": [],
   "source": [
    "from bokeh.models import ColumnDataSource"
   ]
  },
  {
   "cell_type": "markdown",
   "metadata": {},
   "source": [
    "A ColumnDataSource works similarly to a table or a pandas DataFrame. It is a mapping of\n",
    "column names to sequences of values.\n",
    "\n",
    "You can create a ColumnDataSource from Python dictionaries. The keys of the dictionary\n",
    "are the column names, and the values of the dictionary are the sequences of values:"
   ]
  },
  {
   "cell_type": "code",
   "execution_count": 5,
   "metadata": {},
   "outputs": [],
   "source": [
    "source = ColumnDataSource(\n",
    "    data={\n",
    "        \"x\": [1, 2, 3, 4, 5],  # first dictionary creates a column named \"x\"\n",
    "        \"y\": [3, 7, 8, 5, 1],  # second dictionary creates a column named \"y\"\n",
    "    }\n",
    ")"
   ]
  },
  {
   "cell_type": "markdown",
   "metadata": {},
   "source": [
    "To access the contents of any column, use the `data` property of a `ColumnDataSource`:"
   ]
  },
  {
   "cell_type": "code",
   "execution_count": 6,
   "metadata": {},
   "outputs": [
    {
     "data": {
      "text/plain": [
       "[1, 2, 3, 4, 5]"
      ]
     },
     "execution_count": 6,
     "metadata": {},
     "output_type": "execute_result"
    }
   ],
   "source": [
    "source.data[\"x\"]"
   ]
  },
  {
   "cell_type": "markdown",
   "metadata": {},
   "source": [
    "The data you provide here is not limited to lists. You can also use NumPy arrays or \n",
    "pandas Series:"
   ]
  },
  {
   "cell_type": "code",
   "execution_count": 7,
   "metadata": {},
   "outputs": [
    {
     "name": "stdout",
     "output_type": "stream",
     "text": [
      "pandas Series: \n",
      " month\n",
      "1     23895970\n",
      "2     23970797\n",
      "3     38529707\n",
      "4     42939029\n",
      "5     51766337\n",
      "6     58928348\n",
      "7     65267892\n",
      "8     58895098\n",
      "9     52791205\n",
      "10    59338631\n",
      "11    58559178\n",
      "12    58331414\n",
      "Name: passengers, dtype: int64\n",
      "NumPy Array: \n",
      " [ 0  1  2  3  4  5  6  7  8  9 10 11]\n"
     ]
    }
   ],
   "source": [
    "import numpy as np\n",
    "\n",
    "# load pandas series frame from demo data set\n",
    "monthly_passengers_series = data.get_monthly_values()[\"passengers\"]\n",
    "\n",
    "# create NumPy array of same length as the pandas series\n",
    "range_array = np.array(range(0, len(monthly_passengers_series), 1))\n",
    "\n",
    "# create a ColumnDataSource from pandas series and NumPy array\n",
    "source = ColumnDataSource(\n",
    "    data={\n",
    "        \"x\": monthly_passengers_series,  # first dictionary uses a pandas Series\n",
    "        \"y\": range_array,  # second dictionary uses a NumPy array\n",
    "    }\n",
    ")\n",
    "\n",
    "print(f\"pandas Series: \\n {source.data['x']}\")\n",
    "print(f\"NumPy Array: \\n {source.data['y']}\")"
   ]
  },
  {
   "cell_type": "markdown",
   "metadata": {},
   "source": [
    "**All the columns in a ColumnDataSource must always be the SAME length**. This is why\n",
    "the NumPy array in the example above uses `len(monthly_passengers_series)`. This way,\n",
    "the NumPy array is the same length as the pandas Series used for the other column.\n",
    "\n",
    "The following code cell will show an error. Adjust one of the lists to create a valid\n",
    "ColumnDataSource:"
   ]
  },
  {
   "cell_type": "code",
   "execution_count": 8,
   "metadata": {},
   "outputs": [
    {
     "name": "stderr",
     "output_type": "stream",
     "text": [
      "BokehUserWarning: ColumnDataSource's columns must be of the same length. Current lengths: ('x', 4), ('y', 5)\n"
     ]
    }
   ],
   "source": [
    "# 🔁 Adjust one of the lists so that both lists have the same amount of elements\n",
    "source = ColumnDataSource(\n",
    "    data={\n",
    "        \"x\": [1, 2, 3, 4],  # first list contains 4 elements\n",
    "        \"y\": [3, 7, 8, 5, 1],  # ⚠ second list contains 5 elements - this will throw an error\n",
    "    }\n",
    ")"
   ]
  },
  {
   "cell_type": "markdown",
   "metadata": {},
   "source": [
    "In the examples so far, you have used a Python list or pandas series for the `x` and `y`\n",
    "values of functions like `p.scatter`. This means that Bokeh has created the\n",
    "ColumnDataSource for you automatically.\n",
    "\n",
    "However, instead of passing individual sequences of values to a renderer, you can also\n",
    "use a ColumnDataSource directly. To use a ColumnDataSource directly, you do two things\n",
    "differently:\n",
    "\n",
    "1. You pass the ColumnDataSource as the `source` argument to a glyph method.\n",
    "2. To use values from the column of a ColumnDataSource, you pass the **name** of that\n",
    "    column as the value for the property. For example, instead of passing `x=[1 ,2 ,3]`,\n",
    "    you pass `x=\"x_values\"`.\n",
    "\n",
    "In the following code cell, you first create a ColumnDataSource from two lists in a\n",
    "dictionary.\n",
    "Then you use those two columns as the `x` and `y` values for a circle glyph:"
   ]
  },
  {
   "cell_type": "code",
   "execution_count": 9,
   "metadata": {},
   "outputs": [
    {
     "data": {
      "text/html": [
       "\n",
       "  <div id=\"fa293a9a-fa2c-4170-af2b-09e4e69f3fc5\" data-root-id=\"p1013\" style=\"display: contents;\"></div>\n"
      ]
     },
     "metadata": {},
     "output_type": "display_data"
    },
    {
     "data": {
      "application/javascript": "(function(root) {\n  function embed_document(root) {\n  const docs_json = {\"97d2ec3f-849e-404f-af8d-01845bf49d98\":{\"version\":\"3.4.0\",\"title\":\"Bokeh Application\",\"roots\":[{\"type\":\"object\",\"name\":\"Figure\",\"id\":\"p1013\",\"attributes\":{\"height\":300,\"x_range\":{\"type\":\"object\",\"name\":\"DataRange1d\",\"id\":\"p1014\"},\"y_range\":{\"type\":\"object\",\"name\":\"DataRange1d\",\"id\":\"p1015\"},\"x_scale\":{\"type\":\"object\",\"name\":\"LinearScale\",\"id\":\"p1022\"},\"y_scale\":{\"type\":\"object\",\"name\":\"LinearScale\",\"id\":\"p1023\"},\"title\":{\"type\":\"object\",\"name\":\"Title\",\"id\":\"p1020\"},\"renderers\":[{\"type\":\"object\",\"name\":\"GlyphRenderer\",\"id\":\"p1051\",\"attributes\":{\"data_source\":{\"type\":\"object\",\"name\":\"ColumnDataSource\",\"id\":\"p1010\",\"attributes\":{\"selected\":{\"type\":\"object\",\"name\":\"Selection\",\"id\":\"p1011\",\"attributes\":{\"indices\":[],\"line_indices\":[]}},\"selection_policy\":{\"type\":\"object\",\"name\":\"UnionRenderers\",\"id\":\"p1012\"},\"data\":{\"type\":\"map\",\"entries\":[[\"x_values\",[1,2,3,4,5]],[\"y_values\",[6,7,2,3,6]]]}}},\"view\":{\"type\":\"object\",\"name\":\"CDSView\",\"id\":\"p1052\",\"attributes\":{\"filter\":{\"type\":\"object\",\"name\":\"AllIndices\",\"id\":\"p1053\"}}},\"glyph\":{\"type\":\"object\",\"name\":\"Scatter\",\"id\":\"p1048\",\"attributes\":{\"x\":{\"type\":\"field\",\"field\":\"x_values\"},\"y\":{\"type\":\"field\",\"field\":\"y_values\"},\"line_color\":{\"type\":\"value\",\"value\":\"#1f77b4\"},\"fill_color\":{\"type\":\"value\",\"value\":\"#1f77b4\"}}},\"nonselection_glyph\":{\"type\":\"object\",\"name\":\"Scatter\",\"id\":\"p1049\",\"attributes\":{\"x\":{\"type\":\"field\",\"field\":\"x_values\"},\"y\":{\"type\":\"field\",\"field\":\"y_values\"},\"line_color\":{\"type\":\"value\",\"value\":\"#1f77b4\"},\"line_alpha\":{\"type\":\"value\",\"value\":0.1},\"fill_color\":{\"type\":\"value\",\"value\":\"#1f77b4\"},\"fill_alpha\":{\"type\":\"value\",\"value\":0.1},\"hatch_alpha\":{\"type\":\"value\",\"value\":0.1}}},\"muted_glyph\":{\"type\":\"object\",\"name\":\"Scatter\",\"id\":\"p1050\",\"attributes\":{\"x\":{\"type\":\"field\",\"field\":\"x_values\"},\"y\":{\"type\":\"field\",\"field\":\"y_values\"},\"line_color\":{\"type\":\"value\",\"value\":\"#1f77b4\"},\"line_alpha\":{\"type\":\"value\",\"value\":0.2},\"fill_color\":{\"type\":\"value\",\"value\":\"#1f77b4\"},\"fill_alpha\":{\"type\":\"value\",\"value\":0.2},\"hatch_alpha\":{\"type\":\"value\",\"value\":0.2}}}}}],\"toolbar\":{\"type\":\"object\",\"name\":\"Toolbar\",\"id\":\"p1021\",\"attributes\":{\"tools\":[{\"type\":\"object\",\"name\":\"PanTool\",\"id\":\"p1034\"},{\"type\":\"object\",\"name\":\"WheelZoomTool\",\"id\":\"p1035\",\"attributes\":{\"renderers\":\"auto\"}},{\"type\":\"object\",\"name\":\"BoxZoomTool\",\"id\":\"p1036\",\"attributes\":{\"overlay\":{\"type\":\"object\",\"name\":\"BoxAnnotation\",\"id\":\"p1037\",\"attributes\":{\"syncable\":false,\"level\":\"overlay\",\"visible\":false,\"left\":{\"type\":\"number\",\"value\":\"nan\"},\"right\":{\"type\":\"number\",\"value\":\"nan\"},\"top\":{\"type\":\"number\",\"value\":\"nan\"},\"bottom\":{\"type\":\"number\",\"value\":\"nan\"},\"left_units\":\"canvas\",\"right_units\":\"canvas\",\"top_units\":\"canvas\",\"bottom_units\":\"canvas\",\"line_color\":\"black\",\"line_alpha\":1.0,\"line_width\":2,\"line_dash\":[4,4],\"fill_color\":\"lightgrey\",\"fill_alpha\":0.5}}}},{\"type\":\"object\",\"name\":\"SaveTool\",\"id\":\"p1042\"},{\"type\":\"object\",\"name\":\"ResetTool\",\"id\":\"p1043\"},{\"type\":\"object\",\"name\":\"HelpTool\",\"id\":\"p1044\"}]}},\"left\":[{\"type\":\"object\",\"name\":\"LinearAxis\",\"id\":\"p1029\",\"attributes\":{\"ticker\":{\"type\":\"object\",\"name\":\"BasicTicker\",\"id\":\"p1030\",\"attributes\":{\"mantissas\":[1,2,5]}},\"formatter\":{\"type\":\"object\",\"name\":\"BasicTickFormatter\",\"id\":\"p1031\"},\"major_label_policy\":{\"type\":\"object\",\"name\":\"AllLabels\",\"id\":\"p1032\"}}}],\"below\":[{\"type\":\"object\",\"name\":\"LinearAxis\",\"id\":\"p1024\",\"attributes\":{\"ticker\":{\"type\":\"object\",\"name\":\"BasicTicker\",\"id\":\"p1025\",\"attributes\":{\"mantissas\":[1,2,5]}},\"formatter\":{\"type\":\"object\",\"name\":\"BasicTickFormatter\",\"id\":\"p1026\"},\"major_label_policy\":{\"type\":\"object\",\"name\":\"AllLabels\",\"id\":\"p1027\"}}}],\"center\":[{\"type\":\"object\",\"name\":\"Grid\",\"id\":\"p1028\",\"attributes\":{\"axis\":{\"id\":\"p1024\"}}},{\"type\":\"object\",\"name\":\"Grid\",\"id\":\"p1033\",\"attributes\":{\"dimension\":1,\"axis\":{\"id\":\"p1029\"}}}]}}]}};\n  const render_items = [{\"docid\":\"97d2ec3f-849e-404f-af8d-01845bf49d98\",\"roots\":{\"p1013\":\"fa293a9a-fa2c-4170-af2b-09e4e69f3fc5\"},\"root_ids\":[\"p1013\"]}];\n  void root.Bokeh.embed.embed_items_notebook(docs_json, render_items);\n  }\n  if (root.Bokeh !== undefined) {\n    embed_document(root);\n  } else {\n    let attempts = 0;\n    const timer = setInterval(function(root) {\n      if (root.Bokeh !== undefined) {\n        clearInterval(timer);\n        embed_document(root);\n      } else {\n        attempts++;\n        if (attempts > 100) {\n          clearInterval(timer);\n          console.log(\"Bokeh: ERROR: Unable to run BokehJS code because BokehJS library is missing\");\n        }\n      }\n    }, 10, root)\n  }\n})(window);",
      "application/vnd.bokehjs_exec.v0+json": ""
     },
     "metadata": {
      "application/vnd.bokehjs_exec.v0+json": {
       "id": "p1013"
      }
     },
     "output_type": "display_data"
    }
   ],
   "source": [
    "from bokeh.plotting import figure, show\n",
    "from bokeh.models import ColumnDataSource\n",
    "\n",
    "# create dict as basis for ColumnDataSource\n",
    "data_dict = {\"x_values\": [1, 2, 3, 4, 5], \"y_values\": [6, 7, 2, 3, 6]}\n",
    "\n",
    "# create ColumnDataSource based on the dict\n",
    "source = ColumnDataSource(data=data_dict)\n",
    "\n",
    "# create a plot and renderer with ColumnDataSource data\n",
    "p = figure(height=300)\n",
    "p.scatter(\n",
    "    x=\"x_values\",  # use the sequence in the \"x_values\" column\n",
    "    y=\"y_values\",  # use the sequence in the \"y_values\" column\n",
    "    source=source,  # use the ColumnDataSource as the data source\n",
    ")\n",
    "\n",
    "show(p)"
   ]
  },
  {
   "cell_type": "markdown",
   "metadata": {},
   "source": [
    "### Creating a ColumnDataSource from a DataFrame\n",
    "\n",
    "There are many similarities between a ColumnDataSource and a pandas DataFrame.\n",
    "This is why it is simple to create a `ColumnDataSource` object directly from a\n",
    "DataFrame.\n",
    "\n",
    "Let's use the monthly passenger, freight, and mail data from the demo dataset again:"
   ]
  },
  {
   "cell_type": "code",
   "execution_count": 10,
   "metadata": {},
   "outputs": [
    {
     "data": {
      "text/html": [
       "<div>\n",
       "<style scoped>\n",
       "    .dataframe tbody tr th:only-of-type {\n",
       "        vertical-align: middle;\n",
       "    }\n",
       "\n",
       "    .dataframe tbody tr th {\n",
       "        vertical-align: top;\n",
       "    }\n",
       "\n",
       "    .dataframe thead th {\n",
       "        text-align: right;\n",
       "    }\n",
       "</style>\n",
       "<table border=\"1\" class=\"dataframe\">\n",
       "  <thead>\n",
       "    <tr style=\"text-align: right;\">\n",
       "      <th></th>\n",
       "      <th>passengers</th>\n",
       "      <th>freight</th>\n",
       "      <th>mail</th>\n",
       "      <th>month_name</th>\n",
       "    </tr>\n",
       "    <tr>\n",
       "      <th>month</th>\n",
       "      <th></th>\n",
       "      <th></th>\n",
       "      <th></th>\n",
       "      <th></th>\n",
       "    </tr>\n",
       "  </thead>\n",
       "  <tbody>\n",
       "    <tr>\n",
       "      <th>1</th>\n",
       "      <td>23895970</td>\n",
       "      <td>87598694</td>\n",
       "      <td>46968436</td>\n",
       "      <td>January</td>\n",
       "    </tr>\n",
       "    <tr>\n",
       "      <th>2</th>\n",
       "      <td>23970797</td>\n",
       "      <td>91949788</td>\n",
       "      <td>38184246</td>\n",
       "      <td>February</td>\n",
       "    </tr>\n",
       "    <tr>\n",
       "      <th>3</th>\n",
       "      <td>38529707</td>\n",
       "      <td>110337215</td>\n",
       "      <td>44435455</td>\n",
       "      <td>March</td>\n",
       "    </tr>\n",
       "    <tr>\n",
       "      <th>4</th>\n",
       "      <td>42939029</td>\n",
       "      <td>107077739</td>\n",
       "      <td>46288794</td>\n",
       "      <td>April</td>\n",
       "    </tr>\n",
       "    <tr>\n",
       "      <th>5</th>\n",
       "      <td>51766337</td>\n",
       "      <td>115079453</td>\n",
       "      <td>44898759</td>\n",
       "      <td>May</td>\n",
       "    </tr>\n",
       "  </tbody>\n",
       "</table>\n",
       "</div>"
      ],
      "text/plain": [
       "       passengers    freight      mail month_name\n",
       "month                                            \n",
       "1        23895970   87598694  46968436    January\n",
       "2        23970797   91949788  38184246   February\n",
       "3        38529707  110337215  44435455      March\n",
       "4        42939029  107077739  46288794      April\n",
       "5        51766337  115079453  44898759        May"
      ]
     },
     "execution_count": 10,
     "metadata": {},
     "output_type": "execute_result"
    }
   ],
   "source": [
    "monthly_values_df = data.get_monthly_values()\n",
    "monthly_values_df.head(5)"
   ]
  },
  {
   "cell_type": "markdown",
   "metadata": {},
   "source": [
    "To create a ColumnDataSource from a DataFrame, pass the dataframe when creating the\n",
    "`ColumnDataSource` object:"
   ]
  },
  {
   "cell_type": "code",
   "execution_count": 11,
   "metadata": {},
   "outputs": [],
   "source": [
    "source = ColumnDataSource(monthly_values_df)"
   ]
  },
  {
   "cell_type": "markdown",
   "metadata": {},
   "source": [
    "You now have a ColumnDataSource with the same columns as the DataFrame:\n",
    "- a series of values in a column called `\"passengers\"`\n",
    "- a series of values in a column called `\"freight\"`\n",
    "- a series of values in a column called `\"mail\"`\n",
    "- a series of strings in a column called `\"month_names\"`\n",
    "\n",
    "You can use the ColumnDataSource in the same way as before:"
   ]
  },
  {
   "cell_type": "code",
   "execution_count": 12,
   "metadata": {},
   "outputs": [
    {
     "data": {
      "text/html": [
       "\n",
       "  <div id=\"ba133e7a-9208-42b4-a5ca-d111097d02aa\" data-root-id=\"p1060\" style=\"display: contents;\"></div>\n"
      ]
     },
     "metadata": {},
     "output_type": "display_data"
    },
    {
     "data": {
      "application/javascript": "(function(root) {\n  function embed_document(root) {\n  const docs_json = {\"98d6a7fb-4551-4ce4-a52b-165cc955229d\":{\"version\":\"3.4.0\",\"title\":\"Bokeh Application\",\"roots\":[{\"type\":\"object\",\"name\":\"Figure\",\"id\":\"p1060\",\"attributes\":{\"height\":300,\"x_range\":{\"type\":\"object\",\"name\":\"FactorRange\",\"id\":\"p1069\",\"attributes\":{\"factors\":[\"January\",\"February\",\"March\",\"April\",\"May\",\"June\",\"July\",\"August\",\"September\",\"October\",\"November\",\"December\"]}},\"y_range\":{\"type\":\"object\",\"name\":\"DataRange1d\",\"id\":\"p1062\"},\"x_scale\":{\"type\":\"object\",\"name\":\"CategoricalScale\",\"id\":\"p1070\"},\"y_scale\":{\"type\":\"object\",\"name\":\"LinearScale\",\"id\":\"p1071\"},\"title\":{\"type\":\"object\",\"name\":\"Title\",\"id\":\"p1067\"},\"renderers\":[{\"type\":\"object\",\"name\":\"GlyphRenderer\",\"id\":\"p1099\",\"attributes\":{\"data_source\":{\"type\":\"object\",\"name\":\"ColumnDataSource\",\"id\":\"p1057\",\"attributes\":{\"selected\":{\"type\":\"object\",\"name\":\"Selection\",\"id\":\"p1058\",\"attributes\":{\"indices\":[],\"line_indices\":[]}},\"selection_policy\":{\"type\":\"object\",\"name\":\"UnionRenderers\",\"id\":\"p1059\"},\"data\":{\"type\":\"map\",\"entries\":[[\"month\",{\"type\":\"ndarray\",\"array\":{\"type\":\"bytes\",\"data\":\"AQAAAAIAAAADAAAABAAAAAUAAAAGAAAABwAAAAgAAAAJAAAACgAAAAsAAAAMAAAA\"},\"shape\":[12],\"dtype\":\"int32\",\"order\":\"little\"}],[\"passengers\",{\"type\":\"ndarray\",\"array\":{\"type\":\"bytes\",\"data\":\"op9sAe3DbQGr6ksClTKPAkHkFQPcLIMDtOjjA/qqggOlhyUDh2+JA8qKfQMWEXoD\"},\"shape\":[12],\"dtype\":\"int32\",\"order\":\"little\"}],[\"freight\",{\"type\":\"ndarray\",\"array\":{\"type\":\"bytes\",\"data\":\"ZqY4BdwKewW/nJMGa+BhBh352wafi+UGsHTdBn5b0QbqldkGN6dIB89MKwcZFlUH\"},\"shape\":[12],\"dtype\":\"int32\",\"order\":\"little\"}],[\"mail\",{\"type\":\"ndarray\",\"array\":{\"type\":\"bytes\",\"data\":\"dK7MAjalRgL/B6YCmk/CAscZrQJGxX0CFNjAAo/txQLhoxoCEpqRAhedbgIEkwsD\"},\"shape\":[12],\"dtype\":\"int32\",\"order\":\"little\"}],[\"month_name\",{\"type\":\"ndarray\",\"array\":[\"January\",\"February\",\"March\",\"April\",\"May\",\"June\",\"July\",\"August\",\"September\",\"October\",\"November\",\"December\"],\"shape\":[12],\"dtype\":\"object\",\"order\":\"little\"}]]}}},\"view\":{\"type\":\"object\",\"name\":\"CDSView\",\"id\":\"p1100\",\"attributes\":{\"filter\":{\"type\":\"object\",\"name\":\"AllIndices\",\"id\":\"p1101\"}}},\"glyph\":{\"type\":\"object\",\"name\":\"VBar\",\"id\":\"p1096\",\"attributes\":{\"x\":{\"type\":\"field\",\"field\":\"month_name\"},\"width\":{\"type\":\"value\",\"value\":0.9},\"top\":{\"type\":\"field\",\"field\":\"freight\"},\"line_color\":{\"type\":\"value\",\"value\":\"#1f77b4\"},\"fill_color\":{\"type\":\"value\",\"value\":\"#1f77b4\"}}},\"nonselection_glyph\":{\"type\":\"object\",\"name\":\"VBar\",\"id\":\"p1097\",\"attributes\":{\"x\":{\"type\":\"field\",\"field\":\"month_name\"},\"width\":{\"type\":\"value\",\"value\":0.9},\"top\":{\"type\":\"field\",\"field\":\"freight\"},\"line_color\":{\"type\":\"value\",\"value\":\"#1f77b4\"},\"line_alpha\":{\"type\":\"value\",\"value\":0.1},\"fill_color\":{\"type\":\"value\",\"value\":\"#1f77b4\"},\"fill_alpha\":{\"type\":\"value\",\"value\":0.1},\"hatch_alpha\":{\"type\":\"value\",\"value\":0.1}}},\"muted_glyph\":{\"type\":\"object\",\"name\":\"VBar\",\"id\":\"p1098\",\"attributes\":{\"x\":{\"type\":\"field\",\"field\":\"month_name\"},\"width\":{\"type\":\"value\",\"value\":0.9},\"top\":{\"type\":\"field\",\"field\":\"freight\"},\"line_color\":{\"type\":\"value\",\"value\":\"#1f77b4\"},\"line_alpha\":{\"type\":\"value\",\"value\":0.2},\"fill_color\":{\"type\":\"value\",\"value\":\"#1f77b4\"},\"fill_alpha\":{\"type\":\"value\",\"value\":0.2},\"hatch_alpha\":{\"type\":\"value\",\"value\":0.2}}}}},{\"type\":\"object\",\"name\":\"GlyphRenderer\",\"id\":\"p1108\",\"attributes\":{\"data_source\":{\"id\":\"p1057\"},\"view\":{\"type\":\"object\",\"name\":\"CDSView\",\"id\":\"p1109\",\"attributes\":{\"filter\":{\"type\":\"object\",\"name\":\"AllIndices\",\"id\":\"p1110\"}}},\"glyph\":{\"type\":\"object\",\"name\":\"VBar\",\"id\":\"p1105\",\"attributes\":{\"x\":{\"type\":\"field\",\"field\":\"month_name\"},\"width\":{\"type\":\"value\",\"value\":0.9},\"top\":{\"type\":\"field\",\"field\":\"passengers\"},\"line_color\":{\"type\":\"value\",\"value\":\"tomato\"},\"fill_color\":{\"type\":\"value\",\"value\":\"tomato\"},\"hatch_color\":{\"type\":\"value\",\"value\":\"tomato\"}}},\"nonselection_glyph\":{\"type\":\"object\",\"name\":\"VBar\",\"id\":\"p1106\",\"attributes\":{\"x\":{\"type\":\"field\",\"field\":\"month_name\"},\"width\":{\"type\":\"value\",\"value\":0.9},\"top\":{\"type\":\"field\",\"field\":\"passengers\"},\"line_color\":{\"type\":\"value\",\"value\":\"tomato\"},\"line_alpha\":{\"type\":\"value\",\"value\":0.1},\"fill_color\":{\"type\":\"value\",\"value\":\"tomato\"},\"fill_alpha\":{\"type\":\"value\",\"value\":0.1},\"hatch_color\":{\"type\":\"value\",\"value\":\"tomato\"},\"hatch_alpha\":{\"type\":\"value\",\"value\":0.1}}},\"muted_glyph\":{\"type\":\"object\",\"name\":\"VBar\",\"id\":\"p1107\",\"attributes\":{\"x\":{\"type\":\"field\",\"field\":\"month_name\"},\"width\":{\"type\":\"value\",\"value\":0.9},\"top\":{\"type\":\"field\",\"field\":\"passengers\"},\"line_color\":{\"type\":\"value\",\"value\":\"tomato\"},\"line_alpha\":{\"type\":\"value\",\"value\":0.2},\"fill_color\":{\"type\":\"value\",\"value\":\"tomato\"},\"fill_alpha\":{\"type\":\"value\",\"value\":0.2},\"hatch_color\":{\"type\":\"value\",\"value\":\"tomato\"},\"hatch_alpha\":{\"type\":\"value\",\"value\":0.2}}}}}],\"toolbar\":{\"type\":\"object\",\"name\":\"Toolbar\",\"id\":\"p1068\",\"attributes\":{\"tools\":[{\"type\":\"object\",\"name\":\"PanTool\",\"id\":\"p1082\"},{\"type\":\"object\",\"name\":\"WheelZoomTool\",\"id\":\"p1083\",\"attributes\":{\"renderers\":\"auto\"}},{\"type\":\"object\",\"name\":\"BoxZoomTool\",\"id\":\"p1084\",\"attributes\":{\"overlay\":{\"type\":\"object\",\"name\":\"BoxAnnotation\",\"id\":\"p1085\",\"attributes\":{\"syncable\":false,\"level\":\"overlay\",\"visible\":false,\"left\":{\"type\":\"number\",\"value\":\"nan\"},\"right\":{\"type\":\"number\",\"value\":\"nan\"},\"top\":{\"type\":\"number\",\"value\":\"nan\"},\"bottom\":{\"type\":\"number\",\"value\":\"nan\"},\"left_units\":\"canvas\",\"right_units\":\"canvas\",\"top_units\":\"canvas\",\"bottom_units\":\"canvas\",\"line_color\":\"black\",\"line_alpha\":1.0,\"line_width\":2,\"line_dash\":[4,4],\"fill_color\":\"lightgrey\",\"fill_alpha\":0.5}}}},{\"type\":\"object\",\"name\":\"SaveTool\",\"id\":\"p1090\"},{\"type\":\"object\",\"name\":\"ResetTool\",\"id\":\"p1091\"},{\"type\":\"object\",\"name\":\"HelpTool\",\"id\":\"p1092\"}]}},\"left\":[{\"type\":\"object\",\"name\":\"LinearAxis\",\"id\":\"p1077\",\"attributes\":{\"ticker\":{\"type\":\"object\",\"name\":\"BasicTicker\",\"id\":\"p1078\",\"attributes\":{\"mantissas\":[1,2,5]}},\"formatter\":{\"type\":\"object\",\"name\":\"BasicTickFormatter\",\"id\":\"p1079\"},\"major_label_policy\":{\"type\":\"object\",\"name\":\"AllLabels\",\"id\":\"p1080\"}}}],\"below\":[{\"type\":\"object\",\"name\":\"CategoricalAxis\",\"id\":\"p1072\",\"attributes\":{\"ticker\":{\"type\":\"object\",\"name\":\"CategoricalTicker\",\"id\":\"p1073\"},\"formatter\":{\"type\":\"object\",\"name\":\"CategoricalTickFormatter\",\"id\":\"p1074\"},\"major_label_policy\":{\"type\":\"object\",\"name\":\"AllLabels\",\"id\":\"p1075\"}}}],\"center\":[{\"type\":\"object\",\"name\":\"Grid\",\"id\":\"p1076\",\"attributes\":{\"axis\":{\"id\":\"p1072\"}}},{\"type\":\"object\",\"name\":\"Grid\",\"id\":\"p1081\",\"attributes\":{\"dimension\":1,\"axis\":{\"id\":\"p1077\"}}}]}}]}};\n  const render_items = [{\"docid\":\"98d6a7fb-4551-4ce4-a52b-165cc955229d\",\"roots\":{\"p1060\":\"ba133e7a-9208-42b4-a5ca-d111097d02aa\"},\"root_ids\":[\"p1060\"]}];\n  void root.Bokeh.embed.embed_items_notebook(docs_json, render_items);\n  }\n  if (root.Bokeh !== undefined) {\n    embed_document(root);\n  } else {\n    let attempts = 0;\n    const timer = setInterval(function(root) {\n      if (root.Bokeh !== undefined) {\n        clearInterval(timer);\n        embed_document(root);\n      } else {\n        attempts++;\n        if (attempts > 100) {\n          clearInterval(timer);\n          console.log(\"Bokeh: ERROR: Unable to run BokehJS code because BokehJS library is missing\");\n        }\n      }\n    }, 10, root)\n  }\n})(window);",
      "application/vnd.bokehjs_exec.v0+json": ""
     },
     "metadata": {
      "application/vnd.bokehjs_exec.v0+json": {
       "id": "p1060"
      }
     },
     "output_type": "display_data"
    }
   ],
   "source": [
    "from bokeh.plotting import figure, show\n",
    "from bokeh.models import ColumnDataSource\n",
    "\n",
    "# create ColumnDataSource based on DataFrame from the demo data set\n",
    "source = ColumnDataSource(monthly_values_df)\n",
    "\n",
    "# set up the figure\n",
    "p = figure(\n",
    "    height=300,\n",
    "    x_range=source.data[\"month_name\"],  # use the sequence of strings from the \"month_name\" column as categories\n",
    ")\n",
    "\n",
    "# create a line renderer with data from the \"freight\" column\n",
    "p.vbar(\n",
    "    x=\"month_name\",  # use the sequence of strings from the \"month_name\" column as categories\n",
    "    top=\"freight\",  # use the sequence of values from the \"freight\" column as values\n",
    "    width=0.9,\n",
    "    source=source,\n",
    ")\n",
    "\n",
    "# create a second line renderer with data from a different column\n",
    "p.vbar(\n",
    "    x=\"month_name\",  # use the sequence of strings from the \"month_name\" column as categories\n",
    "    top=\"passengers\",  # use the sequence of values from the \"passengers\" column as values\n",
    "    # top=\"mail\",       # 🔁 use this line instead of the one above to use data from the \"mail\" column\n",
    "    width=0.9,\n",
    "    color=\"tomato\",\n",
    "    source=source,\n",
    ")\n",
    "\n",
    "show(p)"
   ]
  },
  {
   "cell_type": "markdown",
   "metadata": {},
   "source": [
    "For more information about the ColumnDataSource, see [Data sources](https://docs.bokeh.org/en/latest/docs/user_guide/basic/data.html)\n",
    "in the user guide."
   ]
  },
  {
   "cell_type": "markdown",
   "metadata": {},
   "source": [
    "### ColumnDataSource transforms\n",
    "\n",
    "Using ColumnDataSource objects also allows you to use Bokeh's built-in transforms.\n",
    "Transforms are useful for performing computations on the data before the data is\n",
    "displayed.\n",
    "These transforms are performed by BokehJS, in the browser.\n",
    "This means the underlying data is not modified and is always available for other plots\n",
    "in the same document.\n",
    "\n",
    "All transforms need to be imported from `bokeh.transform`."
   ]
  },
  {
   "cell_type": "markdown",
   "metadata": {},
   "source": [
    "#### The cumsum transform\n",
    "\n",
    "The `cumsum` transform generates a new sequence of values from a ColumnDataSource\n",
    "column. This new column **cumulatively sums the values in the original column**.\n",
    "\n",
    "For example:"
   ]
  },
  {
   "cell_type": "code",
   "execution_count": 13,
   "metadata": {},
   "outputs": [
    {
     "data": {
      "text/html": [
       "\n",
       "  <div id=\"c4cfda22-6523-414e-8dec-221cb99a0d13\" data-root-id=\"p1118\" style=\"display: contents;\"></div>\n"
      ]
     },
     "metadata": {},
     "output_type": "display_data"
    },
    {
     "data": {
      "application/javascript": "(function(root) {\n  function embed_document(root) {\n  const docs_json = {\"4dc9ff51-863c-4a6e-8bb0-085d06c5bfda\":{\"version\":\"3.4.0\",\"title\":\"Bokeh Application\",\"roots\":[{\"type\":\"object\",\"name\":\"Figure\",\"id\":\"p1118\",\"attributes\":{\"height\":300,\"x_range\":{\"type\":\"object\",\"name\":\"FactorRange\",\"id\":\"p1127\",\"attributes\":{\"factors\":[\"January\",\"February\",\"March\",\"April\",\"May\",\"June\",\"July\",\"August\",\"September\",\"October\",\"November\",\"December\"]}},\"y_range\":{\"type\":\"object\",\"name\":\"DataRange1d\",\"id\":\"p1120\"},\"x_scale\":{\"type\":\"object\",\"name\":\"CategoricalScale\",\"id\":\"p1128\"},\"y_scale\":{\"type\":\"object\",\"name\":\"LinearScale\",\"id\":\"p1129\"},\"title\":{\"type\":\"object\",\"name\":\"Title\",\"id\":\"p1125\"},\"renderers\":[{\"type\":\"object\",\"name\":\"GlyphRenderer\",\"id\":\"p1158\",\"attributes\":{\"data_source\":{\"type\":\"object\",\"name\":\"ColumnDataSource\",\"id\":\"p1115\",\"attributes\":{\"selected\":{\"type\":\"object\",\"name\":\"Selection\",\"id\":\"p1116\",\"attributes\":{\"indices\":[],\"line_indices\":[]}},\"selection_policy\":{\"type\":\"object\",\"name\":\"UnionRenderers\",\"id\":\"p1117\"},\"data\":{\"type\":\"map\",\"entries\":[[\"month\",{\"type\":\"ndarray\",\"array\":{\"type\":\"bytes\",\"data\":\"AQAAAAIAAAADAAAABAAAAAUAAAAGAAAABwAAAAgAAAAJAAAACgAAAAsAAAAMAAAA\"},\"shape\":[12],\"dtype\":\"int32\",\"order\":\"little\"}],[\"passengers\",{\"type\":\"ndarray\",\"array\":{\"type\":\"bytes\",\"data\":\"op9sAe3DbQGr6ksClTKPAkHkFQPcLIMDtOjjA/qqggOlhyUDh2+JA8qKfQMWEXoD\"},\"shape\":[12],\"dtype\":\"int32\",\"order\":\"little\"}],[\"freight\",{\"type\":\"ndarray\",\"array\":{\"type\":\"bytes\",\"data\":\"ZqY4BdwKewW/nJMGa+BhBh352wafi+UGsHTdBn5b0QbqldkGN6dIB89MKwcZFlUH\"},\"shape\":[12],\"dtype\":\"int32\",\"order\":\"little\"}],[\"mail\",{\"type\":\"ndarray\",\"array\":{\"type\":\"bytes\",\"data\":\"dK7MAjalRgL/B6YCmk/CAscZrQJGxX0CFNjAAo/txQLhoxoCEpqRAhedbgIEkwsD\"},\"shape\":[12],\"dtype\":\"int32\",\"order\":\"little\"}],[\"month_name\",{\"type\":\"ndarray\",\"array\":[\"January\",\"February\",\"March\",\"April\",\"May\",\"June\",\"July\",\"August\",\"September\",\"October\",\"November\",\"December\"],\"shape\":[12],\"dtype\":\"object\",\"order\":\"little\"}]]}}},\"view\":{\"type\":\"object\",\"name\":\"CDSView\",\"id\":\"p1159\",\"attributes\":{\"filter\":{\"type\":\"object\",\"name\":\"AllIndices\",\"id\":\"p1160\"}}},\"glyph\":{\"type\":\"object\",\"name\":\"VBar\",\"id\":\"p1155\",\"attributes\":{\"x\":{\"type\":\"field\",\"field\":\"month_name\"},\"width\":{\"type\":\"value\",\"value\":0.9},\"top\":{\"type\":\"expr\",\"expr\":{\"type\":\"object\",\"name\":\"CumSum\",\"id\":\"p1151\",\"attributes\":{\"field\":\"passengers\",\"include_zero\":true}}},\"line_color\":{\"type\":\"value\",\"value\":\"#1f77b4\"},\"fill_color\":{\"type\":\"value\",\"value\":\"#1f77b4\"}}},\"nonselection_glyph\":{\"type\":\"object\",\"name\":\"VBar\",\"id\":\"p1156\",\"attributes\":{\"x\":{\"type\":\"field\",\"field\":\"month_name\"},\"width\":{\"type\":\"value\",\"value\":0.9},\"top\":{\"type\":\"expr\",\"expr\":{\"id\":\"p1151\"}},\"line_color\":{\"type\":\"value\",\"value\":\"#1f77b4\"},\"line_alpha\":{\"type\":\"value\",\"value\":0.1},\"fill_color\":{\"type\":\"value\",\"value\":\"#1f77b4\"},\"fill_alpha\":{\"type\":\"value\",\"value\":0.1},\"hatch_alpha\":{\"type\":\"value\",\"value\":0.1}}},\"muted_glyph\":{\"type\":\"object\",\"name\":\"VBar\",\"id\":\"p1157\",\"attributes\":{\"x\":{\"type\":\"field\",\"field\":\"month_name\"},\"width\":{\"type\":\"value\",\"value\":0.9},\"top\":{\"type\":\"expr\",\"expr\":{\"id\":\"p1151\"}},\"line_color\":{\"type\":\"value\",\"value\":\"#1f77b4\"},\"line_alpha\":{\"type\":\"value\",\"value\":0.2},\"fill_color\":{\"type\":\"value\",\"value\":\"#1f77b4\"},\"fill_alpha\":{\"type\":\"value\",\"value\":0.2},\"hatch_alpha\":{\"type\":\"value\",\"value\":0.2}}}}}],\"toolbar\":{\"type\":\"object\",\"name\":\"Toolbar\",\"id\":\"p1126\",\"attributes\":{\"tools\":[{\"type\":\"object\",\"name\":\"PanTool\",\"id\":\"p1140\"},{\"type\":\"object\",\"name\":\"WheelZoomTool\",\"id\":\"p1141\",\"attributes\":{\"renderers\":\"auto\"}},{\"type\":\"object\",\"name\":\"BoxZoomTool\",\"id\":\"p1142\",\"attributes\":{\"overlay\":{\"type\":\"object\",\"name\":\"BoxAnnotation\",\"id\":\"p1143\",\"attributes\":{\"syncable\":false,\"level\":\"overlay\",\"visible\":false,\"left\":{\"type\":\"number\",\"value\":\"nan\"},\"right\":{\"type\":\"number\",\"value\":\"nan\"},\"top\":{\"type\":\"number\",\"value\":\"nan\"},\"bottom\":{\"type\":\"number\",\"value\":\"nan\"},\"left_units\":\"canvas\",\"right_units\":\"canvas\",\"top_units\":\"canvas\",\"bottom_units\":\"canvas\",\"line_color\":\"black\",\"line_alpha\":1.0,\"line_width\":2,\"line_dash\":[4,4],\"fill_color\":\"lightgrey\",\"fill_alpha\":0.5}}}},{\"type\":\"object\",\"name\":\"SaveTool\",\"id\":\"p1148\"},{\"type\":\"object\",\"name\":\"ResetTool\",\"id\":\"p1149\"},{\"type\":\"object\",\"name\":\"HelpTool\",\"id\":\"p1150\"}]}},\"left\":[{\"type\":\"object\",\"name\":\"LinearAxis\",\"id\":\"p1135\",\"attributes\":{\"ticker\":{\"type\":\"object\",\"name\":\"BasicTicker\",\"id\":\"p1136\",\"attributes\":{\"mantissas\":[1,2,5]}},\"formatter\":{\"type\":\"object\",\"name\":\"BasicTickFormatter\",\"id\":\"p1137\"},\"major_label_policy\":{\"type\":\"object\",\"name\":\"AllLabels\",\"id\":\"p1138\"}}}],\"below\":[{\"type\":\"object\",\"name\":\"CategoricalAxis\",\"id\":\"p1130\",\"attributes\":{\"ticker\":{\"type\":\"object\",\"name\":\"CategoricalTicker\",\"id\":\"p1131\"},\"formatter\":{\"type\":\"object\",\"name\":\"CategoricalTickFormatter\",\"id\":\"p1132\"},\"major_label_policy\":{\"type\":\"object\",\"name\":\"AllLabels\",\"id\":\"p1133\"}}}],\"center\":[{\"type\":\"object\",\"name\":\"Grid\",\"id\":\"p1134\",\"attributes\":{\"axis\":{\"id\":\"p1130\"}}},{\"type\":\"object\",\"name\":\"Grid\",\"id\":\"p1139\",\"attributes\":{\"dimension\":1,\"axis\":{\"id\":\"p1135\"}}}]}}]}};\n  const render_items = [{\"docid\":\"4dc9ff51-863c-4a6e-8bb0-085d06c5bfda\",\"roots\":{\"p1118\":\"c4cfda22-6523-414e-8dec-221cb99a0d13\"},\"root_ids\":[\"p1118\"]}];\n  void root.Bokeh.embed.embed_items_notebook(docs_json, render_items);\n  }\n  if (root.Bokeh !== undefined) {\n    embed_document(root);\n  } else {\n    let attempts = 0;\n    const timer = setInterval(function(root) {\n      if (root.Bokeh !== undefined) {\n        clearInterval(timer);\n        embed_document(root);\n      } else {\n        attempts++;\n        if (attempts > 100) {\n          clearInterval(timer);\n          console.log(\"Bokeh: ERROR: Unable to run BokehJS code because BokehJS library is missing\");\n        }\n      }\n    }, 10, root)\n  }\n})(window);",
      "application/vnd.bokehjs_exec.v0+json": ""
     },
     "metadata": {
      "application/vnd.bokehjs_exec.v0+json": {
       "id": "p1118"
      }
     },
     "output_type": "display_data"
    }
   ],
   "source": [
    "from bokeh.transform import cumsum\n",
    "\n",
    "# create ColumnDataSource based on DataFrame from the demo data set\n",
    "source = ColumnDataSource(monthly_values_df)\n",
    "\n",
    "# set up the figure\n",
    "p = figure(\n",
    "    height=300,\n",
    "    x_range=source.data[\"month_name\"],\n",
    ")\n",
    "\n",
    "# create a bar chart with cumulative data from the \"mail\" column\n",
    "p.vbar(\n",
    "    x=\"month_name\",\n",
    "    top=cumsum(\"passengers\", include_zero=True),  # use the cumulative sums of the \"passengers\" column as values\n",
    "    width=0.9,\n",
    "    source=source,\n",
    ")\n",
    "\n",
    "\n",
    "show(p)"
   ]
  },
  {
   "cell_type": "markdown",
   "metadata": {},
   "source": [
    "#### The linear_cmap transform\n",
    "\n",
    "The ``linear_cmap`` transform generates a new sequence of colors by **applying a linear\n",
    "color map** to a ColumnDataSource column.\n",
    "\n",
    "See [05 Styling plots](05_styling.ipynb#Color-mappers-and-palettes) for more information\n",
    "about color mappers."
   ]
  },
  {
   "cell_type": "code",
   "execution_count": 14,
   "metadata": {},
   "outputs": [
    {
     "name": "stderr",
     "output_type": "stream",
     "text": [
      "BokehDeprecationWarning: 'scatter(radius=...)' was deprecated in Bokeh 3.4.0 and will be removed, use 'circle(radius=...) instead' instead.\n"
     ]
    },
    {
     "data": {
      "text/html": [
       "\n",
       "  <div id=\"f7b50861-4844-43d6-9223-6f128323c641\" data-root-id=\"p1165\" style=\"display: contents;\"></div>\n"
      ]
     },
     "metadata": {},
     "output_type": "display_data"
    },
    {
     "data": {
      "application/javascript": "(function(root) {\n  function embed_document(root) {\n  const docs_json = {\"df840f5e-893c-4639-964b-3944c3f1dc9a\":{\"version\":\"3.4.0\",\"title\":\"Bokeh Application\",\"roots\":[{\"type\":\"object\",\"name\":\"Figure\",\"id\":\"p1165\",\"attributes\":{\"height\":300,\"x_range\":{\"type\":\"object\",\"name\":\"DataRange1d\",\"id\":\"p1166\"},\"y_range\":{\"type\":\"object\",\"name\":\"DataRange1d\",\"id\":\"p1167\"},\"x_scale\":{\"type\":\"object\",\"name\":\"LinearScale\",\"id\":\"p1174\"},\"y_scale\":{\"type\":\"object\",\"name\":\"LinearScale\",\"id\":\"p1175\"},\"title\":{\"type\":\"object\",\"name\":\"Title\",\"id\":\"p1172\"},\"renderers\":[{\"type\":\"object\",\"name\":\"GlyphRenderer\",\"id\":\"p1207\",\"attributes\":{\"data_source\":{\"type\":\"object\",\"name\":\"ColumnDataSource\",\"id\":\"p1198\",\"attributes\":{\"selected\":{\"type\":\"object\",\"name\":\"Selection\",\"id\":\"p1199\",\"attributes\":{\"indices\":[],\"line_indices\":[]}},\"selection_policy\":{\"type\":\"object\",\"name\":\"UnionRenderers\",\"id\":\"p1200\"},\"data\":{\"type\":\"map\",\"entries\":[[\"x\",{\"type\":\"ndarray\",\"array\":{\"type\":\"bytes\",\"data\":\"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\"},\"shape\":[2000],\"dtype\":\"float64\",\"order\":\"little\"}],[\"y\",{\"type\":\"ndarray\",\"array\":{\"type\":\"bytes\",\"data\":\"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\"},\"shape\":[2000],\"dtype\":\"float64\",\"order\":\"little\"}],[\"r\",{\"type\":\"ndarray\",\"array\":{\"type\":\"bytes\",\"data\":\"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\"},\"shape\":[2000],\"dtype\":\"float64\",\"order\":\"little\"}]]}}},\"view\":{\"type\":\"object\",\"name\":\"CDSView\",\"id\":\"p1208\",\"attributes\":{\"filter\":{\"type\":\"object\",\"name\":\"AllIndices\",\"id\":\"p1209\"}}},\"glyph\":{\"type\":\"object\",\"name\":\"Circle\",\"id\":\"p1204\",\"attributes\":{\"x\":{\"type\":\"field\",\"field\":\"x\"},\"y\":{\"type\":\"field\",\"field\":\"y\"},\"radius\":{\"type\":\"field\",\"field\":\"r\"},\"line_color\":{\"type\":\"field\",\"field\":\"x\",\"transform\":{\"type\":\"object\",\"name\":\"LinearColorMapper\",\"id\":\"p1197\",\"attributes\":{\"palette\":[\"#440154\",\"#440255\",\"#440357\",\"#450558\",\"#45065A\",\"#45085B\",\"#46095C\",\"#460B5E\",\"#460C5F\",\"#460E61\",\"#470F62\",\"#471163\",\"#471265\",\"#471466\",\"#471567\",\"#471669\",\"#47186A\",\"#48196B\",\"#481A6C\",\"#481C6E\",\"#481D6F\",\"#481E70\",\"#482071\",\"#482172\",\"#482273\",\"#482374\",\"#472575\",\"#472676\",\"#472777\",\"#472878\",\"#472A79\",\"#472B7A\",\"#472C7B\",\"#462D7C\",\"#462F7C\",\"#46307D\",\"#46317E\",\"#45327F\",\"#45347F\",\"#453580\",\"#453681\",\"#443781\",\"#443982\",\"#433A83\",\"#433B83\",\"#433C84\",\"#423D84\",\"#423E85\",\"#424085\",\"#414186\",\"#414286\",\"#404387\",\"#404487\",\"#3F4587\",\"#3F4788\",\"#3E4888\",\"#3E4989\",\"#3D4A89\",\"#3D4B89\",\"#3D4C89\",\"#3C4D8A\",\"#3C4E8A\",\"#3B508A\",\"#3B518A\",\"#3A528B\",\"#3A538B\",\"#39548B\",\"#39558B\",\"#38568B\",\"#38578C\",\"#37588C\",\"#37598C\",\"#365A8C\",\"#365B8C\",\"#355C8C\",\"#355D8C\",\"#345E8D\",\"#345F8D\",\"#33608D\",\"#33618D\",\"#32628D\",\"#32638D\",\"#31648D\",\"#31658D\",\"#31668D\",\"#30678D\",\"#30688D\",\"#2F698D\",\"#2F6A8D\",\"#2E6B8E\",\"#2E6C8E\",\"#2E6D8E\",\"#2D6E8E\",\"#2D6F8E\",\"#2C708E\",\"#2C718E\",\"#2C728E\",\"#2B738E\",\"#2B748E\",\"#2A758E\",\"#2A768E\",\"#2A778E\",\"#29788E\",\"#29798E\",\"#287A8E\",\"#287A8E\",\"#287B8E\",\"#277C8E\",\"#277D8E\",\"#277E8E\",\"#267F8E\",\"#26808E\",\"#26818E\",\"#25828E\",\"#25838D\",\"#24848D\",\"#24858D\",\"#24868D\",\"#23878D\",\"#23888D\",\"#23898D\",\"#22898D\",\"#228A8D\",\"#228B8D\",\"#218C8D\",\"#218D8C\",\"#218E8C\",\"#208F8C\",\"#20908C\",\"#20918C\",\"#1F928C\",\"#1F938B\",\"#1F948B\",\"#1F958B\",\"#1F968B\",\"#1E978A\",\"#1E988A\",\"#1E998A\",\"#1E998A\",\"#1E9A89\",\"#1E9B89\",\"#1E9C89\",\"#1E9D88\",\"#1E9E88\",\"#1E9F88\",\"#1EA087\",\"#1FA187\",\"#1FA286\",\"#1FA386\",\"#20A485\",\"#20A585\",\"#21A685\",\"#21A784\",\"#22A784\",\"#23A883\",\"#23A982\",\"#24AA82\",\"#25AB81\",\"#26AC81\",\"#27AD80\",\"#28AE7F\",\"#29AF7F\",\"#2AB07E\",\"#2BB17D\",\"#2CB17D\",\"#2EB27C\",\"#2FB37B\",\"#30B47A\",\"#32B57A\",\"#33B679\",\"#35B778\",\"#36B877\",\"#38B976\",\"#39B976\",\"#3BBA75\",\"#3DBB74\",\"#3EBC73\",\"#40BD72\",\"#42BE71\",\"#44BE70\",\"#45BF6F\",\"#47C06E\",\"#49C16D\",\"#4BC26C\",\"#4DC26B\",\"#4FC369\",\"#51C468\",\"#53C567\",\"#55C666\",\"#57C665\",\"#59C764\",\"#5BC862\",\"#5EC961\",\"#60C960\",\"#62CA5F\",\"#64CB5D\",\"#67CC5C\",\"#69CC5B\",\"#6BCD59\",\"#6DCE58\",\"#70CE56\",\"#72CF55\",\"#74D054\",\"#77D052\",\"#79D151\",\"#7CD24F\",\"#7ED24E\",\"#81D34C\",\"#83D34B\",\"#86D449\",\"#88D547\",\"#8BD546\",\"#8DD644\",\"#90D643\",\"#92D741\",\"#95D73F\",\"#97D83E\",\"#9AD83C\",\"#9DD93A\",\"#9FD938\",\"#A2DA37\",\"#A5DA35\",\"#A7DB33\",\"#AADB32\",\"#ADDC30\",\"#AFDC2E\",\"#B2DD2C\",\"#B5DD2B\",\"#B7DD29\",\"#BADE27\",\"#BDDE26\",\"#BFDF24\",\"#C2DF22\",\"#C5DF21\",\"#C7E01F\",\"#CAE01E\",\"#CDE01D\",\"#CFE11C\",\"#D2E11B\",\"#D4E11A\",\"#D7E219\",\"#DAE218\",\"#DCE218\",\"#DFE318\",\"#E1E318\",\"#E4E318\",\"#E7E419\",\"#E9E419\",\"#ECE41A\",\"#EEE51B\",\"#F1E51C\",\"#F3E51E\",\"#F6E61F\",\"#F8E621\",\"#FAE622\",\"#FDE724\"],\"low\":0,\"high\":100}}},\"fill_color\":{\"type\":\"field\",\"field\":\"x\",\"transform\":{\"id\":\"p1197\"}},\"fill_alpha\":{\"type\":\"value\",\"value\":0.6},\"hatch_color\":{\"type\":\"field\",\"field\":\"x\",\"transform\":{\"id\":\"p1197\"}}}},\"nonselection_glyph\":{\"type\":\"object\",\"name\":\"Circle\",\"id\":\"p1205\",\"attributes\":{\"x\":{\"type\":\"field\",\"field\":\"x\"},\"y\":{\"type\":\"field\",\"field\":\"y\"},\"radius\":{\"type\":\"field\",\"field\":\"r\"},\"line_color\":{\"type\":\"field\",\"field\":\"x\",\"transform\":{\"id\":\"p1197\"}},\"line_alpha\":{\"type\":\"value\",\"value\":0.1},\"fill_color\":{\"type\":\"field\",\"field\":\"x\",\"transform\":{\"id\":\"p1197\"}},\"fill_alpha\":{\"type\":\"value\",\"value\":0.1},\"hatch_color\":{\"type\":\"field\",\"field\":\"x\",\"transform\":{\"id\":\"p1197\"}},\"hatch_alpha\":{\"type\":\"value\",\"value\":0.1}}},\"muted_glyph\":{\"type\":\"object\",\"name\":\"Circle\",\"id\":\"p1206\",\"attributes\":{\"x\":{\"type\":\"field\",\"field\":\"x\"},\"y\":{\"type\":\"field\",\"field\":\"y\"},\"radius\":{\"type\":\"field\",\"field\":\"r\"},\"line_color\":{\"type\":\"field\",\"field\":\"x\",\"transform\":{\"id\":\"p1197\"}},\"line_alpha\":{\"type\":\"value\",\"value\":0.2},\"fill_color\":{\"type\":\"field\",\"field\":\"x\",\"transform\":{\"id\":\"p1197\"}},\"fill_alpha\":{\"type\":\"value\",\"value\":0.2},\"hatch_color\":{\"type\":\"field\",\"field\":\"x\",\"transform\":{\"id\":\"p1197\"}},\"hatch_alpha\":{\"type\":\"value\",\"value\":0.2}}}}}],\"toolbar\":{\"type\":\"object\",\"name\":\"Toolbar\",\"id\":\"p1173\",\"attributes\":{\"tools\":[{\"type\":\"object\",\"name\":\"PanTool\",\"id\":\"p1186\"},{\"type\":\"object\",\"name\":\"WheelZoomTool\",\"id\":\"p1187\",\"attributes\":{\"renderers\":\"auto\"}},{\"type\":\"object\",\"name\":\"BoxZoomTool\",\"id\":\"p1188\",\"attributes\":{\"overlay\":{\"type\":\"object\",\"name\":\"BoxAnnotation\",\"id\":\"p1189\",\"attributes\":{\"syncable\":false,\"level\":\"overlay\",\"visible\":false,\"left\":{\"type\":\"number\",\"value\":\"nan\"},\"right\":{\"type\":\"number\",\"value\":\"nan\"},\"top\":{\"type\":\"number\",\"value\":\"nan\"},\"bottom\":{\"type\":\"number\",\"value\":\"nan\"},\"left_units\":\"canvas\",\"right_units\":\"canvas\",\"top_units\":\"canvas\",\"bottom_units\":\"canvas\",\"line_color\":\"black\",\"line_alpha\":1.0,\"line_width\":2,\"line_dash\":[4,4],\"fill_color\":\"lightgrey\",\"fill_alpha\":0.5}}}},{\"type\":\"object\",\"name\":\"SaveTool\",\"id\":\"p1194\"},{\"type\":\"object\",\"name\":\"ResetTool\",\"id\":\"p1195\"},{\"type\":\"object\",\"name\":\"HelpTool\",\"id\":\"p1196\"}]}},\"left\":[{\"type\":\"object\",\"name\":\"LinearAxis\",\"id\":\"p1181\",\"attributes\":{\"ticker\":{\"type\":\"object\",\"name\":\"BasicTicker\",\"id\":\"p1182\",\"attributes\":{\"mantissas\":[1,2,5]}},\"formatter\":{\"type\":\"object\",\"name\":\"BasicTickFormatter\",\"id\":\"p1183\"},\"major_label_policy\":{\"type\":\"object\",\"name\":\"AllLabels\",\"id\":\"p1184\"}}}],\"below\":[{\"type\":\"object\",\"name\":\"LinearAxis\",\"id\":\"p1176\",\"attributes\":{\"ticker\":{\"type\":\"object\",\"name\":\"BasicTicker\",\"id\":\"p1177\",\"attributes\":{\"mantissas\":[1,2,5]}},\"formatter\":{\"type\":\"object\",\"name\":\"BasicTickFormatter\",\"id\":\"p1178\"},\"major_label_policy\":{\"type\":\"object\",\"name\":\"AllLabels\",\"id\":\"p1179\"}}}],\"center\":[{\"type\":\"object\",\"name\":\"Grid\",\"id\":\"p1180\",\"attributes\":{\"axis\":{\"id\":\"p1176\"}}},{\"type\":\"object\",\"name\":\"Grid\",\"id\":\"p1185\",\"attributes\":{\"dimension\":1,\"axis\":{\"id\":\"p1181\"}}}]}}]}};\n  const render_items = [{\"docid\":\"df840f5e-893c-4639-964b-3944c3f1dc9a\",\"roots\":{\"p1165\":\"f7b50861-4844-43d6-9223-6f128323c641\"},\"root_ids\":[\"p1165\"]}];\n  void root.Bokeh.embed.embed_items_notebook(docs_json, render_items);\n  }\n  if (root.Bokeh !== undefined) {\n    embed_document(root);\n  } else {\n    let attempts = 0;\n    const timer = setInterval(function(root) {\n      if (root.Bokeh !== undefined) {\n        clearInterval(timer);\n        embed_document(root);\n      } else {\n        attempts++;\n        if (attempts > 100) {\n          clearInterval(timer);\n          console.log(\"Bokeh: ERROR: Unable to run BokehJS code because BokehJS library is missing\");\n        }\n      }\n    }, 10, root)\n  }\n})(window);",
      "application/vnd.bokehjs_exec.v0+json": ""
     },
     "metadata": {
      "application/vnd.bokehjs_exec.v0+json": {
       "id": "p1165"
      }
     },
     "output_type": "display_data"
    }
   ],
   "source": [
    "import numpy as np\n",
    "from bokeh.transform import linear_cmap\n",
    "\n",
    "# create random values for x, y and radius\n",
    "N = 2000\n",
    "source = dict(\n",
    "    x=np.random.random(size=N) * 100,\n",
    "    y=np.random.random(size=N) * 100,\n",
    "    r=np.random.random(size=N) * 1.5,\n",
    ")\n",
    "\n",
    "p = figure(height=300)\n",
    "\n",
    "p.scatter(\n",
    "    x=\"x\",\n",
    "    y=\"y\",\n",
    "    radius=\"r\",\n",
    "    source=source,\n",
    "    fill_alpha=0.6,\n",
    "    color=linear_cmap(\"x\", \"Viridis256\", 0, 100),  # use a color map based on the \"x\" column using the Viridis256 palette\n",
    ")\n",
    "\n",
    "show(p)"
   ]
  },
  {
   "cell_type": "markdown",
   "metadata": {},
   "source": [
    "To learn more about color mapping with transforms, see\n",
    "[Client-side color mapping](https://docs.bokeh.org/en/latest/docs/user_guide/basic/data.html#client-side-color-mapping)\n",
    "in the user guide.\n",
    "\n",
    "Bokeh contains several other transforms. See\n",
    "[Transforming data](https://docs.bokeh.org/en/latest/docs/user_guide/basic/data.html#transforming-data)\n",
    "in the user guide for more examples. The\n",
    "[entry for bokeh.transform](https://docs.bokeh.org/en/latest/docs/reference/transform.html)\n",
    "in the reference guide also contains a list of all available transforms."
   ]
  },
  {
   "cell_type": "markdown",
   "metadata": {},
   "source": [
    "# Next section\n",
    "\n",
    "<a href=\"07_annotations.ipynb\" target=\"_blank\">\n",
    "    <img src=\"assets/arrow.svg\" alt=\"Next section\" width=\"100\" align=\"right\">\n",
    "</a>\n",
    "\n",
    "In the [next chapter](07_annotations.ipynb), you'll learn how to use annotations to\n",
    "provide additional information in your plots."
   ]
  }
 ],
 "metadata": {
  "kernelspec": {
   "display_name": "Python 3 (ipykernel)",
   "language": "python",
   "name": "python3"
  },
  "language_info": {
   "codemirror_mode": {
    "name": "ipython",
    "version": 3
   },
   "file_extension": ".py",
   "mimetype": "text/x-python",
   "name": "python",
   "nbconvert_exporter": "python",
   "pygments_lexer": "ipython3",
   "version": "3.12.3"
  },
  "vscode": {
   "interpreter": {
    "hash": "0494a81e5f69860dcb844ce8e12eb9c88a7e813ddbfb0fbade72137f5ce45437"
   }
  }
 },
 "nbformat": 4,
 "nbformat_minor": 4
}
